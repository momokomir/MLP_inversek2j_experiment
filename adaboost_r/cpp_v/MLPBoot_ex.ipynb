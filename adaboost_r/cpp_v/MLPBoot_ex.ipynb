{
 "cells": [
  {
   "cell_type": "code",
   "execution_count": 2,
   "metadata": {
    "collapsed": false
   },
   "outputs": [
    {
     "name": "stdout",
     "output_type": "stream",
     "text": [
      "8.891809557098895e-05\n",
      "[0.7415528008970174, 0.523693281130649]\n"
     ]
    }
   ],
   "source": [
    "# fann2\n",
    "from fann2 import libfann\n",
    "\n",
    "learning_rate = 0.1\n",
    "num_input = 2\n",
    "num_hidden = 8\n",
    "num_output = 2\n",
    "layers = [num_input, num_hidden, num_output]\n",
    "\n",
    "desired_error = 0.0001\n",
    "max_iterations = 10000\n",
    "iterations_between_reports = 1000\n",
    "\n",
    "# train\n",
    "ann = libfann.neural_net()\n",
    "ann.create_standard_array(layers)\n",
    "\n",
    "ann.set_learning_rate(learning_rate)\n",
    "ann.set_activation_function_hidden(libfann.SIGMOID)\n",
    "ann.set_activation_function_output(libfann.LINEAR)\n",
    "ann.set_training_algorithm(libfann.TRAIN_RPROP)\n",
    "\n",
    "ann.train_on_file(\"inversek2j_train_haha.data\", max_iterations, iterations_between_reports, desired_error)\n",
    "print(ann.get_MSE())\n",
    "print(ann.run([0.324396, 0.856808]))\n",
    "ann.destroy()\n",
    "\n",
    "# test\n",
    "ann = libfann.neural_net()\n",
    "ann.create_from_file(\"inversek2j_train.net\")\n",
    "ann.destroy()\n"
   ]
  },
  {
   "cell_type": "code",
   "execution_count": 32,
   "metadata": {
    "collapsed": false
   },
   "outputs": [
    {
     "name": "stdout",
     "output_type": "stream",
     "text": [
      "Train MSE: 9.620023774914443e-05\n",
      "[0.003987135259834621, 0.018846115624533533, 0.024474292635031286, 0.0016459154740152762, 0.035170559458761019]\n",
      "Test MSE: 0.014811721630394459\n"
     ]
    }
   ],
   "source": [
    "\n",
    "from fann2 import libfann\n",
    "import numpy as np\n",
    "\n",
    "# set parameters\n",
    "learning_rate = 0.1\n",
    "num_input = 2\n",
    "num_hidden = 8\n",
    "num_output = 2\n",
    "layers = [num_input, num_hidden, num_output]\n",
    "\n",
    "desired_error = 0.0001\n",
    "max_iterations = 10000\n",
    "iterations_between_reports = 1000\n",
    "\n",
    "# create ann and set it \n",
    "ann = libfann.neural_net()\n",
    "ann.create_standard_array(layers)\n",
    "\n",
    "ann.set_learning_rate(learning_rate)\n",
    "ann.set_activation_function_hidden(libfann.SIGMOID)\n",
    "ann.set_activation_function_output(libfann.LINEAR)\n",
    "ann.set_training_algorithm(libfann.TRAIN_RPROP)\n",
    "\n",
    "# read the train_data from file\n",
    "train_data = libfann.training_data()\n",
    "train_data.read_train_from_file(\"inversek2j_train_haha.data\")\n",
    "\n",
    "\n",
    "# train it\n",
    "ann.train_on_data(train_data, max_iterations, iterations_between_reports, desired_error)\n",
    "print(\"Train MSE: %s\" % ann.get_MSE())\n",
    "\n",
    "SAMPLE_NUM = 5\n",
    "error_vector = []\n",
    "\n",
    "for i in range(SAMPLE_NUM):\n",
    "    error_vector.append(np.sum(np.abs(np.array(ann.run(train_data.get_input()[i]))-np.array(train_data.get_output()[i]))))\n",
    "\n",
    "print(\"error_vector: %s\"%error_vector)\n",
    "\n",
    "\n",
    "# read test_data from file\n",
    "test_data = libfann.training_data()\n",
    "test_data.read_train_from_file(\"inversek2j_test_haha.data\")\n",
    "\n",
    "# test\n",
    "ann.reset_MSE()\n",
    "ann.test_data(test_data)\n",
    "print(\"Test MSE: %s\" % ann.get_MSE())\n",
    "\n",
    "\n",
    "# destroy the stucture\n",
    "ann.save(\"inversek2j_train.net\")\n",
    "ann.destroy()  \n",
    "\n",
    "\n",
    "\n",
    "\n"
   ]
  },
  {
   "cell_type": "code",
   "execution_count": 8,
   "metadata": {
    "collapsed": false
   },
   "outputs": [],
   "source": [
    "list =[1,2,4]\n",
    "\n",
    "def main():\n",
    "    del list[:]\n",
    "    list.append([1,2,3])\n",
    "    list.append([1,2,3])\n",
    "\n",
    "    print(list)\n",
    "   \n",
    "main()\n",
    "\n"
   ]
  },
  {
   "cell_type": "code",
   "execution_count": null,
   "metadata": {
    "collapsed": true
   },
   "outputs": [],
   "source": []
  }
 ],
 "metadata": {
  "kernelspec": {
   "display_name": "Python 3",
   "language": "python",
   "name": "python3"
  },
  "language_info": {
   "codemirror_mode": {
    "name": "ipython",
    "version": 3
   },
   "file_extension": ".py",
   "mimetype": "text/x-python",
   "name": "python",
   "nbconvert_exporter": "python",
   "pygments_lexer": "ipython3",
   "version": "3.5.2"
  }
 },
 "nbformat": 4,
 "nbformat_minor": 1
}
