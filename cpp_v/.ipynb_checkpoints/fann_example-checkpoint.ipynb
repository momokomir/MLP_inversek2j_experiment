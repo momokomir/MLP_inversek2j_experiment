{
 "cells": [
  {
   "cell_type": "code",
   "execution_count": 1,
   "metadata": {
    "collapsed": false
   },
   "outputs": [
    {
     "name": "stdout",
     "output_type": "stream",
     "text": [
      "[-0.05097086871901446]\n"
     ]
    }
   ],
   "source": [
    "# fann example\n",
    "from fann2 import libfann\n",
    "\n",
    "# train\n",
    "connection_rate = 1\n",
    "learning_rate = 0.1\n",
    "num_layers = 3\n",
    "num_input = 1\n",
    "num_hidden = 8\n",
    "num_output = 1\n",
    "\n",
    "desired_error = 0.0001\n",
    "max_iterations = 10000\n",
    "iterations_between_reports = 1000\n",
    "\n",
    "ann = libfann.neural_net()\n",
    "ann.create_sparse_array(connection_rate, (num_input, num_hidden, num_output))\n",
    "ann.set_learning_rate(learning_rate)\n",
    "ann.set_activation_function_output(libfann.SIGMOID_SYMMETRIC_STEPWISE)\n",
    "\n",
    "ann.train_on_file(\"xor.data\", max_iterations, iterations_between_reports, desired_error)\n",
    "ann.save(\"xor.net\")\n",
    "\n",
    "# test\n",
    "ann = libfann.neural_net()\n",
    "ann.create_from_file(\"xor.net\")\n",
    "\n",
    "print(ann.run([1, -1]))"
   ]
  },
  {
   "cell_type": "markdown",
   "metadata": {},
   "source": [
    "以上train 和 test 的过程可分为两个.py 文件，或者直接在一个.py 文件里也可。\n",
    "xor.data 如下：\n",
    "```\n",
    "4 2 1\n",
    "-1 -1\n",
    "-1\n",
    "-1 1\n",
    "1\n",
    "1 -1\n",
    "1\n",
    "1 1\n",
    "-1\n",
    "```"
   ]
  },
  {
   "cell_type": "markdown",
   "metadata": {},
   "source": []
  }
 ],
 "metadata": {
  "kernelspec": {
   "display_name": "Python 3",
   "language": "python",
   "name": "python3"
  },
  "language_info": {
   "codemirror_mode": {
    "name": "ipython",
    "version": 3
   },
   "file_extension": ".py",
   "mimetype": "text/x-python",
   "name": "python",
   "nbconvert_exporter": "python",
   "pygments_lexer": "ipython3",
   "version": "3.5.2"
  }
 },
 "nbformat": 4,
 "nbformat_minor": 1
}
